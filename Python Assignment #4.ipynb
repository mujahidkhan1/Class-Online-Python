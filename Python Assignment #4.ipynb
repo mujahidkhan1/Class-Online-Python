{
 "cells": [
  {
   "cell_type": "code",
   "execution_count": 1,
   "id": "46bc6b4c",
   "metadata": {},
   "outputs": [
    {
     "name": "stdout",
     "output_type": "stream",
     "text": [
      "{'a': 10, 'b': 20}\n",
      "{'a': 10, 'b': 20, 'c': 30}\n"
     ]
    }
   ],
   "source": [
    "key = {'a':10, 'b':20}\n",
    "print(key)\n",
    "key.update({'c':30})\n",
    "print(key)"
   ]
  },
  {
   "cell_type": "code",
   "execution_count": 2,
   "id": "f6610c20",
   "metadata": {},
   "outputs": [
    {
     "name": "stdout",
     "output_type": "stream",
     "text": [
      "Checking if 3 exists in list : \n",
      "Yes! Element Exists\n"
     ]
    }
   ],
   "source": [
    "# Python code to demonstrate\n",
    "# checking of element existence\n",
    "# using loops and in\n",
    " \n",
    "# Initializing list\n",
    "list = [ \"Ahmad\", 6, 3, \"Aslam\", 4 ]\n",
    " \n",
    "print(\"Checking if 3 exists in list : \")\n",
    " \n",
    "# Checking if 3 exists in list\n",
    "# using loop\n",
    "for i in list:\n",
    "    if(i == 3) :\n",
    "        print (\"Yes! Element Exists\")"
   ]
  },
  {
   "cell_type": "code",
   "execution_count": 3,
   "id": "14606276",
   "metadata": {},
   "outputs": [
    {
     "name": "stdout",
     "output_type": "stream",
     "text": [
      "610\n"
     ]
    }
   ],
   "source": [
    "sum_dict = {'value1':400,'value2':234,'value3':-24}\n",
    "print(sum(sum_dict.values()))"
   ]
  },
  {
   "cell_type": "code",
   "execution_count": 4,
   "id": "cde90fcc",
   "metadata": {},
   "outputs": [
    {
     "name": "stdout",
     "output_type": "stream",
     "text": [
      "3 5 Khan Aslam "
     ]
    }
   ],
   "source": [
    "l=[\"Khan\",1,2,3,4,5,\"Aslam\",44,3,43,7,9,5,\"Khan\",\"Aslam\"]\n",
    "l1=[]\n",
    "for i in l:\n",
    "    if i not in l1:\n",
    "        l1.append(i)\n",
    "    else:\n",
    "        print(i,end=' ')"
   ]
  },
  {
   "cell_type": "code",
   "execution_count": 5,
   "id": "396f6491",
   "metadata": {},
   "outputs": [
    {
     "name": "stdout",
     "output_type": "stream",
     "text": [
      "Key is present in the dictionary\n",
      "Key is present in the dictionary\n"
     ]
    }
   ],
   "source": [
    "d = {1: 100, 2: 200, 3: 300, 4: 400, 5: 500, 6: 600}\n",
    "def is_key_present(x):\n",
    "  if x in d:\n",
    "      print('Key is present in the dictionary')\n",
    "  else:\n",
    "      print('Key is not present in the dictionary')\n",
    "is_key_present(5)\n",
    "is_key_present(4)"
   ]
  },
  {
   "cell_type": "code",
   "execution_count": null,
   "id": "07cc9790",
   "metadata": {},
   "outputs": [
    {
     "name": "stdout",
     "output_type": "stream",
     "text": [
      "Select operation.\n",
      "1.Add\n",
      "2.Subtract\n",
      "3.Multiply\n",
      "4.Divide\n",
      "5.Power\n",
      "Enter choice(1/2/3/4/5): 1\n",
      "Enter first number: 344\n",
      "Enter second number: 223\n",
      "344.0 + 223.0 = 567.0\n",
      "Let's do next calculation? (yes/no): y\n",
      "Enter choice(1/2/3/4/5): 2\n",
      "Enter first number: 22\n",
      "Enter second number: 11\n",
      "22.0 - 11.0 = 11.0\n",
      "Let's do next calculation? (yes/no): y\n",
      "Enter choice(1/2/3/4/5): 3\n",
      "Enter first number: 44\n",
      "Enter second number: 2\n",
      "44.0 * 2.0 = 88.0\n",
      "Let's do next calculation? (yes/no): y\n",
      "Enter choice(1/2/3/4/5): 4\n",
      "Enter first number: 2222\n",
      "Enter second number: 2\n",
      "2222.0 / 2.0 = 1111.0\n",
      "Let's do next calculation? (yes/no): y\n",
      "Enter choice(1/2/3/4/5): 5\n",
      "Enter first number: 6\n",
      "Enter second number: 2\n",
      "6.0 ** 2.0 = 36.0\n"
     ]
    }
   ],
   "source": [
    "# Program make a simple calculator\n",
    "\n",
    "# This function adds two numbers\n",
    "def add(x, y):\n",
    "    return x + y\n",
    "\n",
    "# This function subtracts two numbers\n",
    "def subtract(x, y):\n",
    "    return x - y\n",
    "\n",
    "# This function multiplies two numbers\n",
    "def multiply(x, y):\n",
    "    return x * y\n",
    "\n",
    "# This function divides two numbers\n",
    "def divide(x, y):\n",
    "    return x / y\n",
    "\n",
    "# This function multiplies two numbers\n",
    "def power(x, y):\n",
    "    return x ** y\n",
    "\n",
    "\n",
    "print(\"Select operation.\")\n",
    "print(\"1.Add\")\n",
    "print(\"2.Subtract\")\n",
    "print(\"3.Multiply\")\n",
    "print(\"4.Divide\")\n",
    "print(\"5.Power\")\n",
    "\n",
    "while True:\n",
    "    # take input from the user\n",
    "    choice = input(\"Enter choice(1/2/3/4/5): \")\n",
    "\n",
    "    # check if choice is one of the four options\n",
    "    if choice in ('1', '2', '3', '4','5'):\n",
    "        num1 = float(input(\"Enter first number: \"))\n",
    "        num2 = float(input(\"Enter second number: \"))\n",
    "\n",
    "        if choice == '1':\n",
    "            print(num1, \"+\", num2, \"=\", add(num1, num2))\n",
    "\n",
    "        elif choice == '2':\n",
    "            print(num1, \"-\", num2, \"=\", subtract(num1, num2))\n",
    "\n",
    "        elif choice == '3':\n",
    "            print(num1, \"*\", num2, \"=\", multiply(num1, num2))\n",
    "\n",
    "        elif choice == '4':\n",
    "            print(num1, \"/\", num2, \"=\", divide(num1, num2))\n",
    "        \n",
    "        elif choice == '5':\n",
    "            print(num1, \"**\", num2, \"=\", power(num1, num2))\n",
    "        \n",
    "        # check if user wants another calculation\n",
    "        # break the while loop if answer is no\n",
    "        next_calculation = input(\"Let's do next calculation? (yes/no): \")\n",
    "        if next_calculation == \"no\":\n",
    "          break\n",
    "    \n",
    "    else:\n",
    "        print(\"Invalid Input\")"
   ]
  },
  {
   "cell_type": "code",
   "execution_count": null,
   "id": "317c808f",
   "metadata": {},
   "outputs": [],
   "source": []
  }
 ],
 "metadata": {
  "kernelspec": {
   "display_name": "Python 3",
   "language": "python",
   "name": "python3"
  },
  "language_info": {
   "codemirror_mode": {
    "name": "ipython",
    "version": 3
   },
   "file_extension": ".py",
   "mimetype": "text/x-python",
   "name": "python",
   "nbconvert_exporter": "python",
   "pygments_lexer": "ipython3",
   "version": "3.8.8"
  }
 },
 "nbformat": 4,
 "nbformat_minor": 5
}
